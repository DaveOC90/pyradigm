{
 "cells": [
  {
   "cell_type": "markdown",
   "metadata": {},
   "source": [
    "## A Python data structure to improve handling of datasets in machine learning workflows\n",
    "\n",
    "This class is greatly suited for neuroimaging applications (or any other domain), where each sample needs to be uniquely identified with a subject ID (or something similar). \n",
    "\n",
    "Key-level correspondence across data, labels (1 or 2), classnames ('healthy', 'disease') and the related helps maintain data integrity and improve the provenance, in addition to enabling traceback to original sources from where the features have been originally derived.\n",
    "\n",
    "An example application is shown below, touching upon the following topics:\n",
    "\n",
    "* <a href='#constructor'>Constructor</a>\n",
    "\n",
    "* <a href='#attributes'>Attributes</a>\n",
    "\n",
    "* <a href='#iteration'>Iteration over samples</a>\n",
    "\n",
    "* <a href='#subsetselection'>Subset selection</a>\n",
    "\n",
    "* <a href='#serialization'>Serialization</a>\n",
    "\n",
    "* <a href='#arithmetic'>Arithmetic</a>\n",
    "\n",
    "* <a href='#portability'>Portability (e.g. with sklearn)</a>\n"
   ]
  },
  {
   "cell_type": "markdown",
   "metadata": {},
   "source": [
    "Improting the necessary modules and our fancy class definition:"
   ]
  },
  {
   "cell_type": "code",
   "execution_count": 93,
   "metadata": {
    "collapsed": true
   },
   "outputs": [],
   "source": [
    "import sys, os\n",
    "import numpy as np\n",
    "from mldataset import MLDataset"
   ]
  },
  {
   "cell_type": "markdown",
   "metadata": {},
   "source": [
    "We can now instantiate it and give it a description:"
   ]
  },
  {
   "cell_type": "code",
   "execution_count": 94,
   "metadata": {
    "collapsed": false
   },
   "outputs": [],
   "source": [
    "dataset = MLDataset()\n",
    "dataset.description = 'ADNI1 baseline: cortical thickness features from Freesurfer v4.3, QCed.'"
   ]
  },
  {
   "cell_type": "code",
   "execution_count": 95,
   "metadata": {
    "collapsed": false,
    "scrolled": true
   },
   "outputs": [
    {
     "data": {
      "text/plain": [
       "ADNI1 baseline: cortical thickness features from Freesurfer v4.3, QCed.\n",
       "Empty dataset."
      ]
     },
     "execution_count": 95,
     "metadata": {},
     "output_type": "execute_result"
    }
   ],
   "source": [
    "dataset"
   ]
  },
  {
   "cell_type": "markdown",
   "metadata": {},
   "source": [
    "You can see the dataset some description attached to it, however we know it is empty. This can be verified in a boolean context as shown below:"
   ]
  },
  {
   "cell_type": "code",
   "execution_count": 96,
   "metadata": {
    "collapsed": false
   },
   "outputs": [
    {
     "data": {
      "text/plain": [
       "False"
      ]
     },
     "execution_count": 96,
     "metadata": {},
     "output_type": "execute_result"
    }
   ],
   "source": [
    "bool(dataset)"
   ]
  },
  {
   "cell_type": "markdown",
   "metadata": {
    "collapsed": true
   },
   "source": [
    "Let's add samples to this dataset which is when this dataset implementation becomes really handy. Before we do that, we will define some convenience routines defined to just illustrate a simple yet common use of this dataset."
   ]
  },
  {
   "cell_type": "code",
   "execution_count": 97,
   "metadata": {
    "collapsed": true
   },
   "outputs": [],
   "source": [
    "def read_thickness(path):\n",
    "    \"\"\"Dummy function to minic a data reader.\"\"\"\n",
    "\n",
    "    # in your actural routine, this might be:\n",
    "    #   pysurfer.read_thickness(path).values()\n",
    "    return np.random.random(2)\n",
    "\n",
    "\n",
    "def get_features(work_dir, subj_id):\n",
    "    \"\"\"Returns the whole brain cortical thickness for a given subject ID.\"\"\"\n",
    "\n",
    "    # extension to identify the data file; this could be .curv, anything else you choose\n",
    "    ext_thickness = '.thickness'\n",
    "\n",
    "    thickness = dict()\n",
    "    for hemi in ['lh', 'rh']:\n",
    "        path_thickness = os.path.join(work_dir, subj_id, hemi + ext_thickness)\n",
    "        thickness[hemi] = read_thickness(path_thickness)\n",
    "\n",
    "    # concatenating them to build a whole brain feature set\n",
    "    thickness_wb = np.concatenate([thickness['lh'], thickness['rh']])\n",
    "\n",
    "    return thickness_wb"
   ]
  },
  {
   "cell_type": "markdown",
   "metadata": {},
   "source": [
    "So now we have IO routines to read the data for us. Let's define where the data will come from:"
   ]
  },
  {
   "cell_type": "code",
   "execution_count": 98,
   "metadata": {
    "collapsed": true
   },
   "outputs": [],
   "source": [
    "work_dir = '/project/ADNI/FreesurferThickness_v4p3'\n",
    "class_set = ['Ctrl', 'Alzr', 'Another']"
   ]
  },
  {
   "cell_type": "markdown",
   "metadata": {},
   "source": [
    "This would obviously change for your applications, but this has sufficient properties to illustrate the point."
   ]
  },
  {
   "cell_type": "markdown",
   "metadata": {},
   "source": [
    "Let's look at what methods this dataset offers us:"
   ]
  },
  {
   "cell_type": "code",
   "execution_count": 99,
   "metadata": {
    "collapsed": false
   },
   "outputs": [
    {
     "data": {
      "text/plain": [
       "['add_classes',\n",
       " 'add_sample',\n",
       " 'class_set',\n",
       " 'class_sizes',\n",
       " 'classes',\n",
       " 'data',\n",
       " 'data_matrix',\n",
       " 'del_sample',\n",
       " 'description',\n",
       " 'extend',\n",
       " 'get_class',\n",
       " 'get_feature_subset',\n",
       " 'get_subset',\n",
       " 'glance',\n",
       " 'keys',\n",
       " 'num_classes',\n",
       " 'num_features',\n",
       " 'num_samples',\n",
       " 'sample_ids',\n",
       " 'save',\n",
       " 'target']"
      ]
     },
     "execution_count": 99,
     "metadata": {},
     "output_type": "execute_result"
    }
   ],
   "source": [
    "dir(dataset)"
   ]
  },
  {
   "cell_type": "markdown",
   "metadata": {},
   "source": [
    "<a id='constructor'></a>"
   ]
  },
  {
   "cell_type": "markdown",
   "metadata": {},
   "source": [
    "## Constructor\n",
    "\n",
    "You can see there few methods such as add_sample, get_subset etc: important method being add_sample, which is key to constructing this dataset. Let's go ahead and some samples:"
   ]
  },
  {
   "cell_type": "code",
   "execution_count": 100,
   "metadata": {
    "collapsed": false
   },
   "outputs": [
    {
     "name": "stdout",
     "output_type": "stream",
     "text": [
      "Working on class  Ctrl\n",
      "\t reading subject      011_S_0005\n",
      "\t reading subject      011_S_0008\n",
      "\t reading subject      022_S_0014\n",
      "\t reading subject      100_S_0015\n",
      "\t reading subject      011_S_0016\n",
      "\t reading subject      067_S_0019\n",
      "\t reading subject      011_S_0021\n",
      "\t reading subject      011_S_0022\n",
      "\t reading subject      011_S_0023\n",
      "\t reading subject      023_S_0031\n",
      "Working on class  Alzr\n",
      "\t reading subject      031_S_1209\n",
      "\t reading subject      007_S_1248\n",
      "\t reading subject      007_S_1304\n",
      "\t reading subject      009_S_1334\n",
      "\t reading subject      007_S_1339\n",
      "\t reading subject      005_S_1341\n",
      "\t reading subject      057_S_1371\n",
      "\t reading subject      057_S_1379\n",
      "\t reading subject      041_S_1391\n",
      "\t reading subject      094_S_1402\n",
      "Working on class Another\n",
      "\t reading subject      130_S_1200\n",
      "\t reading subject      130_S_1201\n",
      "\t reading subject      130_S_1290\n",
      "\t reading subject      130_S_1337\n",
      "\t reading subject      131_S_0123\n",
      "\t reading subject      131_S_0319\n",
      "\t reading subject      131_S_0384\n",
      "\t reading subject      131_S_0409\n",
      "\t reading subject      131_S_0436\n",
      "\t reading subject      131_S_0441\n"
     ]
    }
   ],
   "source": [
    "for class_index, class_id in enumerate(class_set):\n",
    "    print('Working on class {:>5}'.format(class_id))\n",
    "\n",
    "    target_list_path = os.path.join(work_dir,'scripts','test_sample.{}'.format(class_id))\n",
    "    with open(target_list_path,'r') as tf:\n",
    "        target_list = tf.readlines()\n",
    "        target_list = [sub.strip() for sub in target_list]\n",
    "\n",
    "    for subj_id in target_list:\n",
    "        print('\\t reading subject {:>15}'.format(subj_id))\n",
    "        thickness_wb = get_features(work_dir, subj_id)\n",
    "\n",
    "        # adding the sample to the dataset\n",
    "        dataset.add_sample(subj_id, thickness_wb, class_index, class_id)"
   ]
  },
  {
   "cell_type": "markdown",
   "metadata": {},
   "source": [
    "**Nice. Isn't it?**"
   ]
  },
  {
   "cell_type": "markdown",
   "metadata": {},
   "source": [
    "So what's nice about this, you say? *The simple fact that you are constructing a dataset as you read the data* in its most elemental form (in the units of the dataset such as the subject ID in our neuroimaging application). You're done as soon as you're done reading the features from disk.\n",
    "\n",
    "What's more - you can inspect the dataset in an intuitive manner, as shown below:"
   ]
  },
  {
   "cell_type": "code",
   "execution_count": 101,
   "metadata": {
    "collapsed": false
   },
   "outputs": [
    {
     "data": {
      "text/plain": [
       "ADNI1 baseline: cortical thickness features from Freesurfer v4.3, QCed.\n",
       "30 samples and 4 features.\n",
       "Class    Alzr : 10 samples.\n",
       "Class Another : 10 samples.\n",
       "Class    Ctrl : 10 samples."
      ]
     },
     "execution_count": 101,
     "metadata": {},
     "output_type": "execute_result"
    }
   ],
   "source": [
    "dataset"
   ]
  },
  {
   "cell_type": "markdown",
   "metadata": {},
   "source": [
    "Even better, right? No more too much typing of several commands to get the complete and concise sense of the dataset."
   ]
  },
  {
   "cell_type": "markdown",
   "metadata": {},
   "source": [
    "<a id='attributes'></a>"
   ]
  },
  {
   "cell_type": "markdown",
   "metadata": {},
   "source": [
    "## Convenient attributes\n",
    "\n",
    "If you would like, you can always get more specific information, such as:"
   ]
  },
  {
   "cell_type": "code",
   "execution_count": 102,
   "metadata": {
    "collapsed": false
   },
   "outputs": [
    {
     "data": {
      "text/plain": [
       "30"
      ]
     },
     "execution_count": 102,
     "metadata": {},
     "output_type": "execute_result"
    }
   ],
   "source": [
    "dataset.num_samples"
   ]
  },
  {
   "cell_type": "code",
   "execution_count": 103,
   "metadata": {
    "collapsed": false
   },
   "outputs": [
    {
     "data": {
      "text/plain": [
       "4"
      ]
     },
     "execution_count": 103,
     "metadata": {},
     "output_type": "execute_result"
    }
   ],
   "source": [
    "dataset.num_features"
   ]
  },
  {
   "cell_type": "code",
   "execution_count": 104,
   "metadata": {
    "collapsed": false
   },
   "outputs": [
    {
     "data": {
      "text/plain": [
       "{'Alzr', 'Another', 'Ctrl'}"
      ]
     },
     "execution_count": 104,
     "metadata": {},
     "output_type": "execute_result"
    }
   ],
   "source": [
    "dataset.class_set"
   ]
  },
  {
   "cell_type": "code",
   "execution_count": 105,
   "metadata": {
    "collapsed": false
   },
   "outputs": [
    {
     "data": {
      "text/plain": [
       "Counter({'Alzr': 10, 'Another': 10, 'Ctrl': 10})"
      ]
     },
     "execution_count": 105,
     "metadata": {},
     "output_type": "execute_result"
    }
   ],
   "source": [
    "dataset.class_sizes"
   ]
  },
  {
   "cell_type": "code",
   "execution_count": 106,
   "metadata": {
    "collapsed": false
   },
   "outputs": [
    {
     "data": {
      "text/plain": [
       "10"
      ]
     },
     "execution_count": 106,
     "metadata": {},
     "output_type": "execute_result"
    }
   ],
   "source": [
    "dataset.class_sizes['Ctrl']"
   ]
  },
  {
   "cell_type": "markdown",
   "metadata": {},
   "source": [
    "If you'd like to take a look data inside for few subjects - shall we call it a glance?"
   ]
  },
  {
   "cell_type": "code",
   "execution_count": 107,
   "metadata": {
    "collapsed": false
   },
   "outputs": [
    {
     "data": {
      "text/plain": [
       "{'011_S_0005': array([ 0.06,  0.04,  0.37,  0.52]),\n",
       " '011_S_0008': array([ 0.39,  0.25,  0.48,  0.55]),\n",
       " '011_S_0016': array([ 0.35,  0.58,  0.21,  0.81]),\n",
       " '022_S_0014': array([ 0.14,  0.19,  0.71,  0.32]),\n",
       " '100_S_0015': array([ 0.09,  0.84,  0.55,  0.73])}"
      ]
     },
     "execution_count": 107,
     "metadata": {},
     "output_type": "execute_result"
    }
   ],
   "source": [
    "dataset.glance()"
   ]
  },
  {
   "cell_type": "markdown",
   "metadata": {},
   "source": [
    "We can control the number of items to glance, by passing a number to dataset.glance() method:"
   ]
  },
  {
   "cell_type": "code",
   "execution_count": 108,
   "metadata": {
    "collapsed": false
   },
   "outputs": [
    {
     "data": {
      "text/plain": [
       "{'011_S_0005': array([ 0.06,  0.04,  0.37,  0.52]),\n",
       " '011_S_0008': array([ 0.39,  0.25,  0.48,  0.55])}"
      ]
     },
     "execution_count": 108,
     "metadata": {},
     "output_type": "execute_result"
    }
   ],
   "source": [
    "np.set_printoptions(precision=2) # save some screen space\n",
    "dataset.glance(2)"
   ]
  },
  {
   "cell_type": "markdown",
   "metadata": {},
   "source": [
    "Or you may be wondering what are the subject IDs in the dataset.. here they are:"
   ]
  },
  {
   "cell_type": "code",
   "execution_count": 109,
   "metadata": {
    "collapsed": false
   },
   "outputs": [
    {
     "data": {
      "text/plain": [
       "['011_S_0005',\n",
       " '011_S_0008',\n",
       " '022_S_0014',\n",
       " '100_S_0015',\n",
       " '011_S_0016',\n",
       " '067_S_0019',\n",
       " '011_S_0021',\n",
       " '011_S_0022',\n",
       " '011_S_0023',\n",
       " '023_S_0031',\n",
       " '031_S_1209',\n",
       " '007_S_1248',\n",
       " '007_S_1304',\n",
       " '009_S_1334',\n",
       " '007_S_1339',\n",
       " '005_S_1341',\n",
       " '057_S_1371',\n",
       " '057_S_1379',\n",
       " '041_S_1391',\n",
       " '094_S_1402',\n",
       " '130_S_1200',\n",
       " '130_S_1201',\n",
       " '130_S_1290',\n",
       " '130_S_1337',\n",
       " '131_S_0123',\n",
       " '131_S_0319',\n",
       " '131_S_0384',\n",
       " '131_S_0409',\n",
       " '131_S_0436',\n",
       " '131_S_0441']"
      ]
     },
     "execution_count": 109,
     "metadata": {},
     "output_type": "execute_result"
    }
   ],
   "source": [
    "dataset.sample_ids"
   ]
  },
  {
   "cell_type": "markdown",
   "metadata": {},
   "source": [
    "<a id='iteration'></a>"
   ]
  },
  {
   "cell_type": "markdown",
   "metadata": {},
   "source": [
    "## Iteration over samples\n",
    "\n",
    "Thanks to its dictionary based implementation, data for a given sample '007_S_1248' can simply be obtained by:"
   ]
  },
  {
   "cell_type": "code",
   "execution_count": 110,
   "metadata": {
    "collapsed": false
   },
   "outputs": [
    {
     "data": {
      "text/plain": [
       "array([ 0.1 ,  0.21,  0.89,  0.22])"
      ]
     },
     "execution_count": 110,
     "metadata": {},
     "output_type": "execute_result"
    }
   ],
   "source": [
    "dataset.data['007_S_1248']"
   ]
  },
  {
   "cell_type": "markdown",
   "metadata": {},
   "source": [
    "we can easily iterate over all the samples to obtain their data as well as class labels. Let's see it in action:"
   ]
  },
  {
   "cell_type": "code",
   "execution_count": 111,
   "metadata": {
    "collapsed": false
   },
   "outputs": [
    {
     "name": "stdout",
     "output_type": "stream",
     "text": [
      "011_S_0005 :       Ctrl : [ 0.06  0.04  0.37  0.52]\n",
      "011_S_0008 :       Ctrl : [ 0.39  0.25  0.48  0.55]\n",
      "022_S_0014 :       Ctrl : [ 0.14  0.19  0.71  0.32]\n",
      "100_S_0015 :       Ctrl : [ 0.09  0.84  0.55  0.73]\n",
      "011_S_0016 :       Ctrl : [ 0.35  0.58  0.21  0.81]\n",
      "067_S_0019 :       Ctrl : [ 0.41  0.53  0.08  0.35]\n",
      "011_S_0021 :       Ctrl : [ 0.93  0.74  0.18  0.67]\n",
      "011_S_0022 :       Ctrl : [ 0.75  0.74  0.61  0.12]\n",
      "011_S_0023 :       Ctrl : [ 0.45  0.93  0.73  0.55]\n",
      "023_S_0031 :       Ctrl : [ 0.79  0.63  0.17  0.33]\n",
      "031_S_1209 :       Alzr : [ 0.18  0.34  0.65  0.71]\n",
      "007_S_1248 :       Alzr : [ 0.1   0.21  0.89  0.22]\n",
      "007_S_1304 :       Alzr : [ 0.17  0.72  0.66  0.34]\n",
      "009_S_1334 :       Alzr : [ 0.55  0.98  0.72  0.03]\n",
      "007_S_1339 :       Alzr : [ 0.77  0.98  0.34  0.11]\n",
      "005_S_1341 :       Alzr : [ 0.54  0.55  0.57  0.47]\n",
      "057_S_1371 :       Alzr : [ 0.09  0.78  0.71  0.24]\n",
      "057_S_1379 :       Alzr : [ 0.86  0.78  0.4   0.17]\n",
      "041_S_1391 :       Alzr : [ 0.17  0.93  0.94  0.21]\n",
      "094_S_1402 :       Alzr : [ 0.63  0.1   0.52  0.34]\n",
      "130_S_1200 :    Another : [ 0.95  0.34  0.21  0.23]\n",
      "130_S_1201 :    Another : [ 0.94  0.5   0.35  0.87]\n",
      "130_S_1290 :    Another : [ 0.74  0.2   0.69  0.57]\n",
      "130_S_1337 :    Another : [ 0.89  0.38  0.06  0.32]\n",
      "131_S_0123 :    Another : [ 0.48  0.66  0.55  1.  ]\n",
      "131_S_0319 :    Another : [ 0.02  0.72  0.19  0.11]\n",
      "131_S_0384 :    Another : [ 0.65  0.74  0.3   0.01]\n",
      "131_S_0409 :    Another : [ 0.69  0.4   0.22  0.62]\n",
      "131_S_0436 :    Another : [ 0.18  0.12  0.31  0.07]\n",
      "131_S_0441 :    Another : [ 0.51  0.07  0.1   0.56]\n"
     ]
    }
   ],
   "source": [
    "for sample, features in dataset.data.items():\n",
    "    print \"{} : {:>10} : {}\".format(sample, dataset.classes[sample], features)"
   ]
  },
  {
   "cell_type": "markdown",
   "metadata": {},
   "source": [
    "Thanks to the choice of the OrderedDict() for each of the data, classes and labels, the order of sample addition is retained. Hence the correspondence across samples in the dataset not only key-wise (by the sample id), but also index-wise.\n",
    "\n",
    "Another example to illustrate how one can access the subset of features e.g. cortical thickness for a particular region of interest (say posterior cingulate gyrus) is below:"
   ]
  },
  {
   "cell_type": "code",
   "execution_count": 112,
   "metadata": {
    "collapsed": true
   },
   "outputs": [],
   "source": [
    "# let's make a function to return the indices for the ROI\n",
    "def get_ROI_indices(ctx_label=None):\n",
    "    if ctx_label == 'post_cingulate_gyrus':\n",
    "        return xrange(2) # dummy for now\n",
    "    else:\n",
    "        return xrange(dataset.num_features) # all the features"
   ]
  },
  {
   "cell_type": "markdown",
   "metadata": {},
   "source": [
    "Now the following code iterates over each sample and prints the average cortical thickness in the specific ROI:"
   ]
  },
  {
   "cell_type": "code",
   "execution_count": 113,
   "metadata": {
    "collapsed": false
   },
   "outputs": [
    {
     "name": "stdout",
     "output_type": "stream",
     "text": [
      "011_S_0005       Ctrl  0.05\n",
      "011_S_0008       Ctrl  0.32\n",
      "022_S_0014       Ctrl  0.16\n",
      "100_S_0015       Ctrl  0.47\n",
      "011_S_0016       Ctrl  0.47\n",
      "067_S_0019       Ctrl  0.47\n",
      "011_S_0021       Ctrl  0.84\n",
      "011_S_0022       Ctrl  0.74\n",
      "011_S_0023       Ctrl  0.69\n",
      "023_S_0031       Ctrl  0.71\n",
      "031_S_1209       Alzr  0.26\n",
      "007_S_1248       Alzr  0.16\n",
      "007_S_1304       Alzr  0.44\n",
      "009_S_1334       Alzr  0.77\n",
      "007_S_1339       Alzr  0.87\n",
      "005_S_1341       Alzr  0.55\n",
      "057_S_1371       Alzr  0.43\n",
      "057_S_1379       Alzr  0.82\n",
      "041_S_1391       Alzr  0.55\n",
      "094_S_1402       Alzr  0.36\n",
      "130_S_1200    Another  0.64\n",
      "130_S_1201    Another  0.72\n",
      "130_S_1290    Another  0.47\n",
      "130_S_1337    Another  0.64\n",
      "131_S_0123    Another  0.57\n",
      "131_S_0319    Another  0.37\n",
      "131_S_0384    Another  0.69\n",
      "131_S_0409    Another  0.54\n",
      "131_S_0436    Another  0.15\n",
      "131_S_0441    Another  0.29\n"
     ]
    }
   ],
   "source": [
    "avg_thickness = dict()\n",
    "for sample, features in dataset.data.items():\n",
    "    avg_thickness[sample] = np.mean(features[get_ROI_indices('post_cingulate_gyrus')])\n",
    "    print \"{} {:>10}  {:.2f}\".format(sample, dataset.classes[sample], avg_thickness[sample] )"
   ]
  },
  {
   "cell_type": "markdown",
   "metadata": {},
   "source": [
    "Let's make a bar plot with the just computed numbers:"
   ]
  },
  {
   "cell_type": "code",
   "execution_count": 114,
   "metadata": {
    "collapsed": false
   },
   "outputs": [
    {
     "data": {
      "image/png": "[encoded data removed]",
      "text/plain": [
       "<matplotlib.figure.Figure at 0x106e97c50>"
      ]
     },
     "metadata": {},
     "output_type": "display_data"
    }
   ],
   "source": [
    "import matplotlib.pyplot as plt\n",
    "%matplotlib inline\n",
    "n, bins, patches = plt.hist(avg_thickness.values())"
   ]
  },
  {
   "cell_type": "markdown",
   "metadata": {},
   "source": [
    "Remember as the original source of data was random, this has no units, property or meaning!"
   ]
  },
  {
   "cell_type": "markdown",
   "metadata": {},
   "source": [
    "<a id='subsetselection'></a>"
   ]
  },
  {
   "cell_type": "markdown",
   "metadata": {},
   "source": [
    "## Subset selection\n",
    "\n",
    "In addition to the structured way of obtaining the various properties of this dataset, this implementation really will come in handy when you have to slice and dice the dataset (with large number of classes and features) into smaller subsets (e.g. for binary classification). Let's see how we can retrieve the data for a single class:"
   ]
  },
  {
   "cell_type": "code",
   "execution_count": 115,
   "metadata": {
    "collapsed": false
   },
   "outputs": [],
   "source": [
    "ctrl = dataset.get_class('Ctrl')"
   ]
  },
  {
   "cell_type": "markdown",
   "metadata": {},
   "source": [
    "That's it, obtaining the data for a given class is a simple call away.\n",
    "\n",
    "Now let's see what it looks like:"
   ]
  },
  {
   "cell_type": "code",
   "execution_count": 116,
   "metadata": {
    "collapsed": false
   },
   "outputs": [
    {
     "data": {
      "text/plain": [
       "\n",
       " Subset derived from: ADNI1 baseline: cortical thickness features from Freesurfer v4.3, QCed.\n",
       "10 samples and 4 features.\n",
       "Class Ctrl : 10 samples."
      ]
     },
     "execution_count": 116,
     "metadata": {},
     "output_type": "execute_result"
    }
   ],
   "source": [
    "ctrl"
   ]
  },
  {
   "cell_type": "markdown",
   "metadata": {},
   "source": [
    "Even with updated description automatically, to indicate its history. Let's see some data from controls:"
   ]
  },
  {
   "cell_type": "code",
   "execution_count": 117,
   "metadata": {
    "collapsed": false
   },
   "outputs": [
    {
     "data": {
      "text/plain": [
       "{'011_S_0005': array([ 0.06,  0.04,  0.37,  0.52]),\n",
       " '011_S_0008': array([ 0.39,  0.25,  0.48,  0.55])}"
      ]
     },
     "execution_count": 117,
     "metadata": {},
     "output_type": "execute_result"
    }
   ],
   "source": [
    "ctrl.glance(2)"
   ]
  },
  {
   "cell_type": "markdown",
   "metadata": {},
   "source": [
    "#### Let's see how we can retrieve specific samples by their IDs (for which there are many use cases):"
   ]
  },
  {
   "cell_type": "code",
   "execution_count": 118,
   "metadata": {
    "collapsed": true
   },
   "outputs": [],
   "source": [
    "data = dataset.get_subset(['022_S_0014','023_S_0031','023_S_0031','131_S_0409'])"
   ]
  },
  {
   "cell_type": "markdown",
   "metadata": {},
   "source": [
    "So as simple as that."
   ]
  },
  {
   "cell_type": "code",
   "execution_count": 119,
   "metadata": {
    "collapsed": false
   },
   "outputs": [
    {
     "data": {
      "text/plain": [
       "\n",
       " Subset derived from: ADNI1 baseline: cortical thickness features from Freesurfer v4.3, QCed.\n",
       "3 samples and 4 features.\n",
       "Class Another : 1 samples.\n",
       "Class    Ctrl : 2 samples."
      ]
     },
     "execution_count": 119,
     "metadata": {},
     "output_type": "execute_result"
    }
   ],
   "source": [
    "data"
   ]
  },
  {
   "cell_type": "markdown",
   "metadata": {},
   "source": [
    "#### More useful case would be to select a subset of classes from an original large dataset:"
   ]
  },
  {
   "cell_type": "code",
   "execution_count": 120,
   "metadata": {
    "collapsed": false
   },
   "outputs": [],
   "source": [
    "binary_dataset = dataset.get_class(['Ctrl','Alzr'])"
   ]
  },
  {
   "cell_type": "code",
   "execution_count": 121,
   "metadata": {
    "collapsed": false
   },
   "outputs": [
    {
     "data": {
      "text/plain": [
       "\n",
       " Subset derived from: ADNI1 baseline: cortical thickness features from Freesurfer v4.3, QCed.\n",
       "20 samples and 4 features.\n",
       "Class Alzr : 10 samples.\n",
       "Class Ctrl : 10 samples."
      ]
     },
     "execution_count": 121,
     "metadata": {},
     "output_type": "execute_result"
    }
   ],
   "source": [
    "binary_dataset"
   ]
  },
  {
   "cell_type": "markdown",
   "metadata": {},
   "source": [
    "How about selecting a subset of features from all samples?"
   ]
  },
  {
   "cell_type": "code",
   "execution_count": 122,
   "metadata": {
    "collapsed": false
   },
   "outputs": [
    {
     "data": {
      "text/plain": [
       "Subset features derived from: \n",
       " \n",
       " Subset derived from: ADNI1 baseline: cortical thickness features from Freesurfer v4.3, QCed.\n",
       "20 samples and 2 features.\n",
       "Class Alzr : 10 samples.\n",
       "Class Ctrl : 10 samples."
      ]
     },
     "execution_count": 122,
     "metadata": {},
     "output_type": "execute_result"
    }
   ],
   "source": [
    "binary_dataset.get_feature_subset(xrange(2))"
   ]
  },
  {
   "cell_type": "markdown",
   "metadata": {},
   "source": [
    "**Great.** Isn't it? You can also see the two-time-point history (initial subset in classes, followed by a subset in features)."
   ]
  },
  {
   "cell_type": "markdown",
   "metadata": {},
   "source": [
    "<a id='serialization'></a>"
   ]
  },
  {
   "cell_type": "markdown",
   "metadata": {},
   "source": [
    "## Serialization\n",
    "\n",
    "Once you have this dataset, you can save and load these trivially using your favourite serialization module. Let's do some pickling:"
   ]
  },
  {
   "cell_type": "code",
   "execution_count": 123,
   "metadata": {
    "collapsed": true
   },
   "outputs": [],
   "source": [
    "out_file = os.path.join(work_dir,'binary_dataset_Ctrl_Alzr_Freesurfer_thickness_v4p3.pkl')\n",
    "binary_dataset.save(out_file)"
   ]
  },
  {
   "cell_type": "markdown",
   "metadata": {
    "collapsed": false
   },
   "source": [
    "That's it - it is saved.\n",
    "\n",
    "Let's reload it from disk and make sure we can indeed retrieve it:"
   ]
  },
  {
   "cell_type": "code",
   "execution_count": 124,
   "metadata": {
    "collapsed": false
   },
   "outputs": [
    {
     "name": "stdout",
     "output_type": "stream",
     "text": [
      "Loading the dataset from: /project/ADNI/FreesurferThickness_v4p3/binary_dataset_Ctrl_Alzr_Freesurfer_thickness_v4p3.pkl\n"
     ]
    }
   ],
   "source": [
    "reloaded = MLDataset(filepath=out_file) # another form of the constructor!"
   ]
  },
  {
   "cell_type": "code",
   "execution_count": 125,
   "metadata": {
    "collapsed": false
   },
   "outputs": [
    {
     "data": {
      "text/plain": [
       "\n",
       " Subset derived from: ADNI1 baseline: cortical thickness features from Freesurfer v4.3, QCed.\n",
       "20 samples and 4 features.\n",
       "Class Alzr : 10 samples.\n",
       "Class Ctrl : 10 samples."
      ]
     },
     "execution_count": 125,
     "metadata": {},
     "output_type": "execute_result"
    }
   ],
   "source": [
    "reloaded"
   ]
  },
  {
   "cell_type": "markdown",
   "metadata": {},
   "source": [
    "<a id='arithmetic'></a>"
   ]
  },
  {
   "cell_type": "markdown",
   "metadata": {},
   "source": [
    "## Dataset Arithmetic\n",
    "\n",
    "You might wonder how can you combine two different types of features ( thickness and shape ) from the dataset. Piece of cake, see below ...\n",
    "\n",
    "To concatenat two datasets, first we make a second dataset:"
   ]
  },
  {
   "cell_type": "code",
   "execution_count": 126,
   "metadata": {
    "collapsed": false
   },
   "outputs": [],
   "source": [
    "dataset_two = MLDataset(in_dataset=dataset) # yet another constructor: in its copy form!"
   ]
  },
  {
   "cell_type": "markdown",
   "metadata": {},
   "source": [
    "How can you check if they are \"functionally identical\"? As in same keys, same data and classes for each key... Easy:"
   ]
  },
  {
   "cell_type": "code",
   "execution_count": 127,
   "metadata": {
    "collapsed": false
   },
   "outputs": [
    {
     "data": {
      "text/plain": [
       "True"
      ]
     },
     "execution_count": 127,
     "metadata": {},
     "output_type": "execute_result"
    }
   ],
   "source": [
    "dataset_two == dataset"
   ]
  },
  {
   "cell_type": "markdown",
   "metadata": {},
   "source": [
    "Now let's try the arithmentic:"
   ]
  },
  {
   "cell_type": "code",
   "execution_count": 128,
   "metadata": {
    "collapsed": false
   },
   "outputs": [
    {
     "name": "stdout",
     "output_type": "stream",
     "text": [
      "Identical keys found. Trying to horizontally concatenate features for each sample.\n"
     ]
    }
   ],
   "source": [
    "combined = dataset + dataset_two"
   ]
  },
  {
   "cell_type": "markdown",
   "metadata": {},
   "source": [
    "Great. The add method recognized the identical set of keys and performed a horiz cat, as can be noticed by the twice the number of features in the combined dataset:"
   ]
  },
  {
   "cell_type": "code",
   "execution_count": 129,
   "metadata": {
    "collapsed": false
   },
   "outputs": [
    {
     "data": {
      "text/plain": [
       "\n",
       "30 samples and 8 features.\n",
       "Class    Alzr : 10 samples.\n",
       "Class Another : 10 samples.\n",
       "Class    Ctrl : 10 samples."
      ]
     },
     "execution_count": 129,
     "metadata": {},
     "output_type": "execute_result"
    }
   ],
   "source": [
    "combined"
   ]
  },
  {
   "cell_type": "markdown",
   "metadata": {},
   "source": [
    "We can also do some removal in similar fashion:"
   ]
  },
  {
   "cell_type": "code",
   "execution_count": 130,
   "metadata": {
    "collapsed": false
   },
   "outputs": [
    {
     "name": "stdout",
     "output_type": "stream",
     "text": [
      "011_S_0005 removed.\n",
      "011_S_0008 removed.\n",
      "022_S_0014 removed.\n",
      "100_S_0015 removed.\n",
      "011_S_0016 removed.\n",
      "067_S_0019 removed.\n",
      "011_S_0021 removed.\n",
      "011_S_0022 removed.\n",
      "011_S_0023 removed.\n",
      "023_S_0031 removed.\n",
      "031_S_1209 removed.\n",
      "007_S_1248 removed.\n",
      "007_S_1304 removed.\n",
      "009_S_1334 removed.\n",
      "007_S_1339 removed.\n",
      "005_S_1341 removed.\n",
      "057_S_1371 removed.\n",
      "057_S_1379 removed.\n",
      "041_S_1391 removed.\n",
      "094_S_1402 removed.\n",
      "130_S_1200 removed.\n",
      "130_S_1201 removed.\n",
      "130_S_1290 removed.\n",
      "130_S_1337 removed.\n",
      "131_S_0123 removed.\n",
      "131_S_0319 removed.\n",
      "131_S_0384 removed.\n",
      "131_S_0409 removed.\n",
      "131_S_0436 removed.\n",
      "131_S_0441 removed.\n"
     ]
    }
   ],
   "source": [
    "smaller = combined - dataset"
   ]
  },
  {
   "cell_type": "markdown",
   "metadata": {},
   "source": [
    "Data structure is even producing a warning to let you know the resulting output would be empty! We can verify that:"
   ]
  },
  {
   "cell_type": "code",
   "execution_count": 131,
   "metadata": {
    "collapsed": false
   },
   "outputs": [
    {
     "data": {
      "text/plain": [
       "False"
      ]
     },
     "execution_count": 131,
     "metadata": {},
     "output_type": "execute_result"
    }
   ],
   "source": [
    "bool(smaller)"
   ]
  },
  {
   "cell_type": "markdown",
   "metadata": {},
   "source": [
    "<a id='portability'></a>"
   ]
  },
  {
   "cell_type": "markdown",
   "metadata": {},
   "source": [
    "## Portability"
   ]
  },
  {
   "cell_type": "markdown",
   "metadata": {},
   "source": [
    "This is all well and good. How does it interact with other packages out there, you might ask? It is as simple as you can imagine:"
   ]
  },
  {
   "cell_type": "code",
   "execution_count": 132,
   "metadata": {
    "collapsed": false
   },
   "outputs": [],
   "source": [
    "from sklearn import svm\n",
    "clf = svm.SVC(gamma=0.001, C=100.)"
   ]
  },
  {
   "cell_type": "code",
   "execution_count": 133,
   "metadata": {
    "collapsed": false
   },
   "outputs": [
    {
     "data": {
      "text/plain": [
       "SVC(C=100.0, cache_size=200, class_weight=None, coef0=0.0,\n",
       "  decision_function_shape=None, degree=3, gamma=0.001, kernel='rbf',\n",
       "  max_iter=-1, probability=False, random_state=None, shrinking=True,\n",
       "  tol=0.001, verbose=False)"
      ]
     },
     "execution_count": 133,
     "metadata": {},
     "output_type": "execute_result"
    }
   ],
   "source": [
    "clf.fit(binary_dataset.data_matrix, binary_dataset.target)"
   ]
  },
  {
   "cell_type": "markdown",
   "metadata": {},
   "source": [
    "There you have it, a simple example to show you the utility and convenience of this dataset."
   ]
  },
  {
   "cell_type": "markdown",
   "metadata": {},
   "source": [
    "### Thanks for checking it out. \n",
    "\n",
    "### I would appreciate if you could give me feedback on improving or sharpening it further."
   ]
  }
 ],
 "metadata": {
  "kernelspec": {
   "display_name": "Python 2",
   "language": "python",
   "name": "python2"
  },
  "language_info": {
   "codemirror_mode": {
    "name": "ipython",
    "version": 2
   },
   "file_extension": ".py",
   "mimetype": "text/x-python",
   "name": "python",
   "nbconvert_exporter": "python",
   "pygments_lexer": "ipython2",
   "version": "2.7.11"
  }
 },
 "nbformat": 4,
 "nbformat_minor": 0
}
