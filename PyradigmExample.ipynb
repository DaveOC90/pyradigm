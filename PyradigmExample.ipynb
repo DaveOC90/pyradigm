{
 "cells": [
  {
   "cell_type": "markdown",
   "metadata": {},
   "source": [
    "Table of Contents\n",
    "\n",
    "* <a href='#motivation'>Motivation</a>\n",
    "\n",
    "* <a href='#constructor'>Constructing a dataset</a>\n",
    "\n",
    "* <a href='#attributes'>Attributes</a>\n",
    "\n",
    "* <a href='#iteration'>Iteration over samples</a>\n",
    "\n",
    "* <a href='#subsetselection'>Subset selection</a>\n",
    "\n",
    "* <a href='#serialization'>Saving/reloading a dataset (Serialization)</a>\n",
    "\n",
    "* <a href='#arithmetic'> Combining multiple datasets and arithmetic on useful subsets within datasets </a>\n",
    "\n",
    "* <a href='#portability'>Exporting to numpy and portability (e.g. with sklearn)</a>"
   ]
  },
  {
   "cell_type": "markdown",
   "metadata": {},
   "source": [
    "<a id='motivation'></a>"
   ]
  },
  {
   "cell_type": "markdown",
   "metadata": {},
   "source": [
    "## A Python data structure to improve handling of datasets in machine learning workflows\n",
    "\n",
    "This class is greatly suited for neuroimaging applications (or any other domain), where each sample needs to be uniquely identified with a subject ID (or something similar). \n",
    "\n",
    "Key-level correspondence across data, labels (1 or 2), classnames ('healthy', 'disease') and the related helps maintain data integrity and improve the provenance, in addition to enabling traceback to original sources from where the features have been originally derived.\n",
    "\n",
    "Just to given you a concrete examples, let's look at how an ML dataset is handled traditionally.\n",
    "\n",
    "You have a matrix X of size n x p, with n samples and p features, and a vector y containing the target values (or class labels or class identifiers). This X and y serves as training (and test set) for a classifier like SVM to fit the data X to match y as accurately as possible.\n",
    "\n",
    "Let's get a little more concrete:"
   ]
  },
  {
   "cell_type": "code",
   "execution_count": 112,
   "metadata": {
    "collapsed": false,
    "scrolled": true
   },
   "outputs": [
    {
     "name": "stdout",
     "output_type": "stream",
     "text": [
      "Using matplotlib backend: TkAgg\n",
      "X : \n",
      "[[ 0.64  0.48  0.88]\n",
      " [ 0.19  0.05  0.12]\n",
      " [ 0.13  0.1   0.68]\n",
      " [ 0.99  0.19  0.39]\n",
      " [ 0.86  0.36  0.91]\n",
      " [ 0.83  0.98  0.32]\n",
      " [ 0.86  0.35  0.3 ]\n",
      " [ 0.32  0.65  0.83]\n",
      " [ 0.6   0.75  0.53]\n",
      " [ 0.12  0.52  0.41]]\n",
      "y : \n",
      "[1, 1, 1, 1, 1, 2, 2, 2, 2, 2]\n"
     ]
    }
   ],
   "source": [
    "import sys, os\n",
    "import numpy as np\n",
    "import matplotlib\n",
    "%matplotlib\n",
    "%matplotlib inline\n",
    "import matplotlib.pyplot as plt\n",
    "\n",
    "n = 10 # number of samples\n",
    "p = 3  # number of features\n",
    "\n",
    "X = np.random.random([n, p]) # random data for illustration\n",
    "y = [1]*5 + [2]*5            # random labels ...\n",
    "\n",
    "np.set_printoptions(precision=2) # save some screen space\n",
    "print 'X : \\n', X\n",
    "print 'y : \\n', y"
   ]
  },
  {
   "cell_type": "markdown",
   "metadata": {},
   "source": [
    "Almost all the machine learning toolboxes take their input in this form: X and y, regardless of the original source that produced these features in the first place.\n",
    "\n",
    "This is all fine if all you ever wanted to do is to extract some features, do some machine learning and dispose these features away! \n",
    "\n",
    "** But this is almost never the case!**\n",
    "\n",
    "Because it doesn't simply end there.\n",
    "\n",
    "At a minimum, I often need to know \n",
    " * which samples are misclassified - meaning you need to know what the identifiers are and not simply their row indices in X?\n",
    " * what are the charecteristics of those samples?\n",
    " * what classes do they belong to?\n"
   ]
  },
  {
   "cell_type": "markdown",
   "metadata": {},
   "source": [
    "And all this info needs to be obtained\n",
    " * without having to write lots of code connecting few non-obvious links to disparate sources of data (numerical features X, and sample identifiers in a CSV file) to find the relevant info\n",
    " * without having to track down who or which method originally produced these features\n",
    " * how the previous personnel or grad student organized the whole dataset, if you haven't generated the features yourself from scratch\n",
    "\n",
    "And if you are like me, you would be thinking about how would you organize your workflow such that the aforementioned tasks can be accomplished with ease.\n",
    " \n",
    "This data structure attempts to accomplish that with ease. By always organizing the extracted features keyed-in into a dictionary with their *sample id*, and other important info such as *target values* and other identified info. This, by definition, preserves the integrity of the data (inability to incorrectly label samples etc).\n",
    "\n",
    "No, this data structure doesn't offer the full [provenance tracking](http://rrcns.readthedocs.io/en/latest/provenance_tracking.html), which is quite a challenging problem. But it tries make your life a little easier in your ML workflows."
   ]
  },
  {
   "cell_type": "markdown",
   "metadata": {},
   "source": [
    "An example application is shown below, touching upon the following topics:\n",
    "\n",
    "* <a href='#motivation'>Motivation</a>\n",
    "\n",
    "* <a href='#constructor'>Constructing a dataset</a>\n",
    "\n",
    "* <a href='#attributes'>Attributes</a>\n",
    "\n",
    "* <a href='#iteration'>Iteration over samples</a>\n",
    "\n",
    "* <a href='#subsetselection'>Subset selection</a>\n",
    "\n",
    "* <a href='#serialization'>Saving/reloading a dataset (Serialization)</a>\n",
    "\n",
    "* <a href='#arithmetic'> Combining multiple datasets and arithmetic on useful subsets within datasets </a>\n",
    "\n",
    "* <a href='#portability'>Exporting to numpy and portability (e.g. with sklearn)</a>"
   ]
  },
  {
   "cell_type": "markdown",
   "metadata": {},
   "source": [
    "Improting the necessary modules and our fancy class definition:"
   ]
  },
  {
   "cell_type": "code",
   "execution_count": 113,
   "metadata": {
    "collapsed": false
   },
   "outputs": [],
   "source": [
    "from pyradigm import MLDataset"
   ]
  },
  {
   "cell_type": "markdown",
   "metadata": {},
   "source": [
    "We can now instantiate it and give it a description:"
   ]
  },
  {
   "cell_type": "code",
   "execution_count": 114,
   "metadata": {
    "collapsed": false
   },
   "outputs": [],
   "source": [
    "dataset = MLDataset()\n",
    "dataset.description = 'ADNI1 baseline: cortical thickness features from Freesurfer v4.3, QCed.'"
   ]
  },
  {
   "cell_type": "code",
   "execution_count": 115,
   "metadata": {
    "collapsed": false,
    "scrolled": true
   },
   "outputs": [
    {
     "data": {
      "text/plain": [
       "ADNI1 baseline: cortical thickness features from Freesurfer v4.3, QCed.\n",
       "Empty dataset."
      ]
     },
     "execution_count": 115,
     "metadata": {},
     "output_type": "execute_result"
    }
   ],
   "source": [
    "dataset"
   ]
  },
  {
   "cell_type": "markdown",
   "metadata": {},
   "source": [
    "You can see the dataset some description attached to it, however we know it is empty. This can be verified in a boolean context as shown below:"
   ]
  },
  {
   "cell_type": "code",
   "execution_count": 116,
   "metadata": {
    "collapsed": false
   },
   "outputs": [
    {
     "data": {
      "text/plain": [
       "False"
      ]
     },
     "execution_count": 116,
     "metadata": {},
     "output_type": "execute_result"
    }
   ],
   "source": [
    "bool(dataset)"
   ]
  },
  {
   "cell_type": "markdown",
   "metadata": {
    "collapsed": true
   },
   "source": [
    "Let's add samples to this dataset which is when this dataset implementation becomes really handy. Before we do that, we will define some convenience routines defined to just illustrate a simple yet common use of this dataset."
   ]
  },
  {
   "cell_type": "code",
   "execution_count": 117,
   "metadata": {
    "collapsed": false
   },
   "outputs": [],
   "source": [
    "def read_thickness(path):\n",
    "    \"\"\"Dummy function to minic a data reader.\"\"\"\n",
    "\n",
    "    # in your actural routine, this might be:\n",
    "    #   pysurfer.read_thickness(path).values()\n",
    "    return np.random.random(2)\n",
    "\n",
    "\n",
    "def get_features(work_dir, subj_id):\n",
    "    \"\"\"Returns the whole brain cortical thickness for a given subject ID.\"\"\"\n",
    "\n",
    "    # extension to identify the data file; this could be .curv, anything else you choose\n",
    "    ext_thickness = '.thickness'\n",
    "\n",
    "    thickness = dict()\n",
    "    for hemi in ['lh', 'rh']:\n",
    "        path_thickness = os.path.join(work_dir, subj_id, hemi + ext_thickness)\n",
    "        thickness[hemi] = read_thickness(path_thickness)\n",
    "\n",
    "    # concatenating them to build a whole brain feature set\n",
    "    thickness_wb = np.concatenate([thickness['lh'], thickness['rh']])\n",
    "\n",
    "    return thickness_wb"
   ]
  },
  {
   "cell_type": "markdown",
   "metadata": {},
   "source": [
    "So now we have IO routines to read the data for us. Let's define where the data will come from:"
   ]
  },
  {
   "cell_type": "code",
   "execution_count": 118,
   "metadata": {
    "collapsed": false
   },
   "outputs": [],
   "source": [
    "work_dir = '/project/ADNI/FreesurferThickness_v4p3'\n",
    "class_set = ['Cntrl', 'Alzmr', 'MCI']\n",
    "class_sizes = [15, 12, 18]"
   ]
  },
  {
   "cell_type": "markdown",
   "metadata": {},
   "source": [
    "This would obviously change for your applications, but this has sufficient properties to illustrate the point."
   ]
  },
  {
   "cell_type": "markdown",
   "metadata": {},
   "source": [
    "Let's look at what methods this dataset offers us:"
   ]
  },
  {
   "cell_type": "code",
   "execution_count": 119,
   "metadata": {
    "collapsed": false
   },
   "outputs": [
    {
     "data": {
      "text/plain": [
       "['add_classes',\n",
       " 'add_sample',\n",
       " 'class_set',\n",
       " 'class_sizes',\n",
       " 'classes',\n",
       " 'data',\n",
       " 'data_and_labels',\n",
       " 'del_sample',\n",
       " 'description',\n",
       " 'extend',\n",
       " 'get_class',\n",
       " 'get_feature_subset',\n",
       " 'get_subset',\n",
       " 'glance',\n",
       " 'keys',\n",
       " 'num_classes',\n",
       " 'num_features',\n",
       " 'num_samples',\n",
       " 'random_subset',\n",
       " 'random_subset_ids',\n",
       " 'random_subset_ids_by_count',\n",
       " 'sample_ids',\n",
       " 'sample_ids_in_class',\n",
       " 'save',\n",
       " 'summarize_classes',\n",
       " 'train_test_split_ids']"
      ]
     },
     "execution_count": 119,
     "metadata": {},
     "output_type": "execute_result"
    }
   ],
   "source": [
    "dir(dataset)"
   ]
  },
  {
   "cell_type": "markdown",
   "metadata": {},
   "source": [
    "<a id='constructor'></a>"
   ]
  },
  {
   "cell_type": "markdown",
   "metadata": {},
   "source": [
    "## Constructor\n",
    "\n",
    "You can see there few methods such as add_sample, get_subset etc: important method being add_sample, which is key to constructing this dataset. Let's go ahead and some samples:"
   ]
  },
  {
   "cell_type": "code",
   "execution_count": 120,
   "metadata": {
    "collapsed": false
   },
   "outputs": [],
   "source": [
    "import random\n",
    "from datetime import datetime\n",
    "random.seed(datetime.now())\n",
    "\n",
    "def read_target_list(class_name, class_size):\n",
    "    \"Generates a random target list. In reality, you would do something like the commented code below.\"\n",
    "    target_list = list()\n",
    "    for idx in range(class_size):\n",
    "        target_list.append('{}{:04d}'.format(class_name[0],np.random.randint(1000)))\n",
    "        \n",
    "    return target_list\n",
    "\n",
    "#     target_list_path = os.path.join(work_dir,'scripts','test_sample.{}'.format(class_name))\n",
    "#     with open(target_list_path,'r') as tf:\n",
    "#         target_list = tf.readlines()\n",
    "#         target_list = [sub.strip() for sub in target_list]"
   ]
  },
  {
   "cell_type": "code",
   "execution_count": 121,
   "metadata": {
    "collapsed": false
   },
   "outputs": [
    {
     "name": "stdout",
     "output_type": "stream",
     "text": [
      "Working on class Cntrl\n",
      "\t reading subject           C0102\n",
      "\t reading subject           C0589\n",
      "\t reading subject           C0246\n",
      "\t reading subject           C0776\n",
      "\t reading subject           C0483\n",
      "\t reading subject           C0622\n",
      "\t reading subject           C0547\n",
      "\t reading subject           C0296\n",
      "\t reading subject           C0981\n",
      "\t reading subject           C0782\n",
      "\t reading subject           C0767\n",
      "\t reading subject           C0451\n",
      "\t reading subject           C0065\n",
      "\t reading subject           C0592\n",
      "\t reading subject           C0665\n",
      "Working on class Alzmr\n",
      "\t reading subject           A0502\n",
      "\t reading subject           A0851\n",
      "\t reading subject           A0402\n",
      "\t reading subject           A0460\n",
      "\t reading subject           A0166\n",
      "\t reading subject           A0264\n",
      "\t reading subject           A0866\n",
      "\t reading subject           A0375\n",
      "\t reading subject           A0971\n",
      "\t reading subject           A0624\n",
      "\t reading subject           A0153\n",
      "\t reading subject           A0735\n",
      "Working on class   MCI\n",
      "\t reading subject           M0450\n",
      "\t reading subject           M0207\n",
      "\t reading subject           M0647\n",
      "\t reading subject           M0752\n",
      "\t reading subject           M0037\n",
      "\t reading subject           M0171\n",
      "\t reading subject           M0173\n",
      "\t reading subject           M0733\n",
      "\t reading subject           M0551\n",
      "\t reading subject           M0698\n",
      "\t reading subject           M0256\n",
      "\t reading subject           M0642\n",
      "\t reading subject           M0924\n",
      "\t reading subject           M0543\n",
      "\t reading subject           M0751\n",
      "\t reading subject           M0950\n",
      "\t reading subject           M0143\n",
      "\t reading subject           M0670\n"
     ]
    }
   ],
   "source": [
    "for class_index, class_id in enumerate(class_set):\n",
    "    print('Working on class {:>5}'.format(class_id))\n",
    "\n",
    "    target_list = read_target_list(class_id,class_sizes[class_index])\n",
    "    for subj_id in target_list:\n",
    "        print('\\t reading subject {:>15}'.format(subj_id))\n",
    "        thickness_wb = get_features(work_dir, subj_id)\n",
    "\n",
    "        # adding the sample to the dataset\n",
    "        dataset.add_sample(subj_id, thickness_wb, class_index, class_id)"
   ]
  },
  {
   "cell_type": "markdown",
   "metadata": {},
   "source": [
    "**Nice. Isn't it?**"
   ]
  },
  {
   "cell_type": "markdown",
   "metadata": {},
   "source": [
    "So what's nice about this, you say? *The simple fact that you are constructing a dataset as you read the data* in its most elemental form (in the units of the dataset such as the subject ID in our neuroimaging application). You're done as soon as you're done reading the features from disk.\n",
    "\n",
    "What's more - you can inspect the dataset in an intuitive manner, as shown below:"
   ]
  },
  {
   "cell_type": "code",
   "execution_count": 122,
   "metadata": {
    "collapsed": false
   },
   "outputs": [
    {
     "data": {
      "text/plain": [
       "ADNI1 baseline: cortical thickness features from Freesurfer v4.3, QCed.\n",
       "45 samples and 4 features.\n",
       "Class Cntrl : 15 samples.\n",
       "Class   MCI : 18 samples.\n",
       "Class Alzmr : 12 samples."
      ]
     },
     "execution_count": 122,
     "metadata": {},
     "output_type": "execute_result"
    }
   ],
   "source": [
    "dataset"
   ]
  },
  {
   "cell_type": "markdown",
   "metadata": {},
   "source": [
    "Even better, right? No more too much typing of several commands to get the complete and concise sense of the dataset."
   ]
  },
  {
   "cell_type": "markdown",
   "metadata": {},
   "source": [
    "<a id='attributes'></a>"
   ]
  },
  {
   "cell_type": "markdown",
   "metadata": {},
   "source": [
    "## Convenient attributes\n",
    "\n",
    "If you would like, you can always get more specific information, such as:"
   ]
  },
  {
   "cell_type": "code",
   "execution_count": 123,
   "metadata": {
    "collapsed": false
   },
   "outputs": [
    {
     "data": {
      "text/plain": [
       "45"
      ]
     },
     "execution_count": 123,
     "metadata": {},
     "output_type": "execute_result"
    }
   ],
   "source": [
    "dataset.num_samples"
   ]
  },
  {
   "cell_type": "code",
   "execution_count": 124,
   "metadata": {
    "collapsed": false
   },
   "outputs": [
    {
     "data": {
      "text/plain": [
       "4"
      ]
     },
     "execution_count": 124,
     "metadata": {},
     "output_type": "execute_result"
    }
   ],
   "source": [
    "dataset.num_features"
   ]
  },
  {
   "cell_type": "code",
   "execution_count": 125,
   "metadata": {
    "collapsed": false
   },
   "outputs": [
    {
     "data": {
      "text/plain": [
       "['Cntrl', 'MCI', 'Alzmr']"
      ]
     },
     "execution_count": 125,
     "metadata": {},
     "output_type": "execute_result"
    }
   ],
   "source": [
    "dataset.class_set"
   ]
  },
  {
   "cell_type": "code",
   "execution_count": 126,
   "metadata": {
    "collapsed": false
   },
   "outputs": [
    {
     "data": {
      "text/plain": [
       "Counter({'Alzmr': 12, 'Cntrl': 15, 'MCI': 18})"
      ]
     },
     "execution_count": 126,
     "metadata": {},
     "output_type": "execute_result"
    }
   ],
   "source": [
    "dataset.class_sizes"
   ]
  },
  {
   "cell_type": "code",
   "execution_count": 127,
   "metadata": {
    "collapsed": false
   },
   "outputs": [
    {
     "data": {
      "text/plain": [
       "15"
      ]
     },
     "execution_count": 127,
     "metadata": {},
     "output_type": "execute_result"
    }
   ],
   "source": [
    "dataset.class_sizes['Cntrl']"
   ]
  },
  {
   "cell_type": "markdown",
   "metadata": {},
   "source": [
    "If you'd like to take a look data inside for few subjects - shall we call it a glance?"
   ]
  },
  {
   "cell_type": "code",
   "execution_count": 128,
   "metadata": {
    "collapsed": false
   },
   "outputs": [
    {
     "data": {
      "text/plain": [
       "{'C0102': array([ 0.06,  0.16,  0.8 ,  0.9 ]),\n",
       " 'C0246': array([ 0.93,  0.91,  0.09,  0.62]),\n",
       " 'C0483': array([ 0.27,  0.97,  0.84,  0.63]),\n",
       " 'C0589': array([ 0.34,  0.06,  0.33,  0.24]),\n",
       " 'C0776': array([ 0.67,  0.06,  0.08,  0.03])}"
      ]
     },
     "execution_count": 128,
     "metadata": {},
     "output_type": "execute_result"
    }
   ],
   "source": [
    "dataset.glance()"
   ]
  },
  {
   "cell_type": "markdown",
   "metadata": {},
   "source": [
    "We can control the number of items to glance, by passing a number to dataset.glance() method:"
   ]
  },
  {
   "cell_type": "code",
   "execution_count": 129,
   "metadata": {
    "collapsed": false
   },
   "outputs": [
    {
     "data": {
      "text/plain": [
       "{'C0102': array([ 0.06,  0.16,  0.8 ,  0.9 ]),\n",
       " 'C0589': array([ 0.34,  0.06,  0.33,  0.24])}"
      ]
     },
     "execution_count": 129,
     "metadata": {},
     "output_type": "execute_result"
    }
   ],
   "source": [
    "dataset.glance(2)"
   ]
  },
  {
   "cell_type": "markdown",
   "metadata": {},
   "source": [
    "Or you may be wondering what are the subject IDs in the dataset.. here they are:"
   ]
  },
  {
   "cell_type": "code",
   "execution_count": 130,
   "metadata": {
    "collapsed": false
   },
   "outputs": [
    {
     "data": {
      "text/plain": [
       "['C0102',\n",
       " 'C0589',\n",
       " 'C0246',\n",
       " 'C0776',\n",
       " 'C0483',\n",
       " 'C0622',\n",
       " 'C0547',\n",
       " 'C0296',\n",
       " 'C0981',\n",
       " 'C0782',\n",
       " 'C0767',\n",
       " 'C0451',\n",
       " 'C0065',\n",
       " 'C0592',\n",
       " 'C0665',\n",
       " 'A0502',\n",
       " 'A0851',\n",
       " 'A0402',\n",
       " 'A0460',\n",
       " 'A0166',\n",
       " 'A0264',\n",
       " 'A0866',\n",
       " 'A0375',\n",
       " 'A0971',\n",
       " 'A0624',\n",
       " 'A0153',\n",
       " 'A0735',\n",
       " 'M0450',\n",
       " 'M0207',\n",
       " 'M0647',\n",
       " 'M0752',\n",
       " 'M0037',\n",
       " 'M0171',\n",
       " 'M0173',\n",
       " 'M0733',\n",
       " 'M0551',\n",
       " 'M0698',\n",
       " 'M0256',\n",
       " 'M0642',\n",
       " 'M0924',\n",
       " 'M0543',\n",
       " 'M0751',\n",
       " 'M0950',\n",
       " 'M0143',\n",
       " 'M0670']"
      ]
     },
     "execution_count": 130,
     "metadata": {},
     "output_type": "execute_result"
    }
   ],
   "source": [
    "dataset.sample_ids"
   ]
  },
  {
   "cell_type": "markdown",
   "metadata": {},
   "source": [
    "<a id='iteration'></a>"
   ]
  },
  {
   "cell_type": "markdown",
   "metadata": {},
   "source": [
    "## Iteration over samples\n",
    "\n",
    "Thanks to its dictionary based implementation, data for a given sample '007_S_1248' can simply be obtained by:"
   ]
  },
  {
   "cell_type": "code",
   "execution_count": 131,
   "metadata": {
    "collapsed": false
   },
   "outputs": [
    {
     "name": "stdout",
     "output_type": "stream",
     "text": [
      "A0264 [ 0.63  0.14  0.23  0.15]\n"
     ]
    }
   ],
   "source": [
    "sample_id = dataset.sample_ids[20]\n",
    "print sample_id, dataset.data[sample_id]"
   ]
  },
  {
   "cell_type": "markdown",
   "metadata": {},
   "source": [
    "we can easily iterate over all the samples to obtain their data as well as class labels. Let's see it in action:"
   ]
  },
  {
   "cell_type": "code",
   "execution_count": 132,
   "metadata": {
    "collapsed": false
   },
   "outputs": [
    {
     "name": "stdout",
     "output_type": "stream",
     "text": [
      "C0102 :      Cntrl : [ 0.06  0.16  0.8   0.9 ]\n",
      "C0589 :      Cntrl : [ 0.34  0.06  0.33  0.24]\n",
      "C0246 :      Cntrl : [ 0.93  0.91  0.09  0.62]\n",
      "C0776 :      Cntrl : [ 0.67  0.06  0.08  0.03]\n",
      "C0483 :      Cntrl : [ 0.27  0.97  0.84  0.63]\n",
      "C0622 :      Cntrl : [ 0.4   0.53  0.08  0.53]\n",
      "C0547 :      Cntrl : [ 0.66  0.49  0.45  0.68]\n",
      "C0296 :      Cntrl : [ 0.32  0.33  0.21  0.52]\n",
      "C0981 :      Cntrl : [ 0.51  0.09  0.93  0.91]\n",
      "C0782 :      Cntrl : [ 0.12  0.42  0.2   0.65]\n",
      "C0767 :      Cntrl : [ 0.59  0.18  0.26  0.77]\n",
      "C0451 :      Cntrl : [ 0.2   0.08  0.25  0.18]\n",
      "C0065 :      Cntrl : [ 1.    0.56  0.71  0.6 ]\n",
      "C0592 :      Cntrl : [ 0.05  0.48  0.28  0.57]\n",
      "C0665 :      Cntrl : [ 0.87  0.07  0.62  0.68]\n",
      "A0502 :      Alzmr : [ 0.57  0.69  0.23  0.17]\n",
      "A0851 :      Alzmr : [ 0.06  0.71  0.86  0.66]\n",
      "A0402 :      Alzmr : [ 0.9   0.54  0.6   0.2 ]\n",
      "A0460 :      Alzmr : [ 0.75  0.71  0.19  0.46]\n",
      "A0166 :      Alzmr : [ 0.14  0.54  0.01  0.09]\n",
      "A0264 :      Alzmr : [ 0.63  0.14  0.23  0.15]\n",
      "A0866 :      Alzmr : [ 0.55  0.5   0.97  0.13]\n",
      "A0375 :      Alzmr : [ 0.89  0.66  0.53  0.44]\n",
      "A0971 :      Alzmr : [ 0.41  0.86  0.86  0.58]\n",
      "A0624 :      Alzmr : [ 0.74  0.01  0.13  0.41]\n",
      "A0153 :      Alzmr : [ 0.82  0.37  0.81  0.52]\n",
      "A0735 :      Alzmr : [ 0.79  0.02  0.59  0.57]\n",
      "M0450 :        MCI : [ 0.04  0.51  0.44  0.44]\n",
      "M0207 :        MCI : [ 0.76  0.65  0.53  0.43]\n",
      "M0647 :        MCI : [ 0.63  0.07  0.41  0.62]\n",
      "M0752 :        MCI : [ 0.3   0.92  0.64  0.64]\n",
      "M0037 :        MCI : [ 0.07  0.82  0.57  0.39]\n",
      "M0171 :        MCI : [ 0.38  0.43  0.22  0.22]\n",
      "M0173 :        MCI : [ 0.74  0.81  0.63  0.33]\n",
      "M0733 :        MCI : [ 0.64  0.93  0.13  0.13]\n",
      "M0551 :        MCI : [ 0.79  0.03  0.28  0.29]\n",
      "M0698 :        MCI : [ 1.    0.54  0.71  0.72]\n",
      "M0256 :        MCI : [ 0.26  0.58  0.24  0.44]\n",
      "M0642 :        MCI : [ 0.16  0.93  0.74  0.44]\n",
      "M0924 :        MCI : [ 0.39  0.41  0.25  0.19]\n",
      "M0543 :        MCI : [ 0.83  0.51  0.06  0.86]\n",
      "M0751 :        MCI : [ 0.11  0.38  0.55  0.57]\n",
      "M0950 :        MCI : [ 0.77  1.    0.03  0.54]\n",
      "M0143 :        MCI : [ 0.84  0.12  0.94  0.9 ]\n",
      "M0670 :        MCI : [ 0.57  0.72  0.97  0.33]\n"
     ]
    }
   ],
   "source": [
    "for sample, features in dataset.data.items():\n",
    "    print \"{} : {:>10} : {}\".format(sample, dataset.classes[sample], features)"
   ]
  },
  {
   "cell_type": "markdown",
   "metadata": {},
   "source": [
    "Thanks to the choice of the OrderedDict() for each of the data, classes and labels, the order of sample addition is retained. Hence the correspondence across samples in the dataset not only key-wise (by the sample id), but also index-wise.\n",
    "\n",
    "Another example to illustrate how one can access the subset of features e.g. cortical thickness for a particular region of interest (say posterior cingulate gyrus) is below:"
   ]
  },
  {
   "cell_type": "code",
   "execution_count": 133,
   "metadata": {
    "collapsed": true
   },
   "outputs": [],
   "source": [
    "# let's make a function to return the indices for the ROI\n",
    "def get_ROI_indices(ctx_label=None):\n",
    "    if ctx_label == 'post_cingulate_gyrus':\n",
    "        return xrange(2) # dummy for now\n",
    "    else:\n",
    "        return xrange(dataset.num_features) # all the features"
   ]
  },
  {
   "cell_type": "markdown",
   "metadata": {},
   "source": [
    "Now the following code iterates over each sample and prints the average cortical thickness in the specific ROI:"
   ]
  },
  {
   "cell_type": "code",
   "execution_count": 134,
   "metadata": {
    "collapsed": false
   },
   "outputs": [
    {
     "name": "stdout",
     "output_type": "stream",
     "text": [
      "C0102      Cntrl  0.11\n",
      "C0589      Cntrl  0.20\n",
      "C0246      Cntrl  0.92\n",
      "C0776      Cntrl  0.36\n",
      "C0483      Cntrl  0.62\n",
      "C0622      Cntrl  0.46\n",
      "C0547      Cntrl  0.58\n",
      "C0296      Cntrl  0.32\n",
      "C0981      Cntrl  0.30\n",
      "C0782      Cntrl  0.27\n",
      "C0767      Cntrl  0.39\n",
      "C0451      Cntrl  0.14\n",
      "C0065      Cntrl  0.78\n",
      "C0592      Cntrl  0.27\n",
      "C0665      Cntrl  0.47\n",
      "A0502      Alzmr  0.63\n",
      "A0851      Alzmr  0.39\n",
      "A0402      Alzmr  0.72\n",
      "A0460      Alzmr  0.73\n",
      "A0166      Alzmr  0.34\n",
      "A0264      Alzmr  0.38\n",
      "A0866      Alzmr  0.52\n",
      "A0375      Alzmr  0.77\n",
      "A0971      Alzmr  0.63\n",
      "A0624      Alzmr  0.37\n",
      "A0153      Alzmr  0.60\n",
      "A0735      Alzmr  0.41\n",
      "M0450        MCI  0.27\n",
      "M0207        MCI  0.71\n",
      "M0647        MCI  0.35\n",
      "M0752        MCI  0.61\n",
      "M0037        MCI  0.44\n",
      "M0171        MCI  0.40\n",
      "M0173        MCI  0.77\n",
      "M0733        MCI  0.78\n",
      "M0551        MCI  0.41\n",
      "M0698        MCI  0.77\n",
      "M0256        MCI  0.42\n",
      "M0642        MCI  0.54\n",
      "M0924        MCI  0.40\n",
      "M0543        MCI  0.67\n",
      "M0751        MCI  0.25\n",
      "M0950        MCI  0.88\n",
      "M0143        MCI  0.48\n",
      "M0670        MCI  0.64\n"
     ]
    }
   ],
   "source": [
    "avg_thickness = dict()\n",
    "for sample, features in dataset.data.items():\n",
    "    avg_thickness[sample] = np.mean(features[get_ROI_indices('post_cingulate_gyrus')])\n",
    "    print \"{} {:>10}  {:.2f}\".format(sample, dataset.classes[sample], avg_thickness[sample] )"
   ]
  },
  {
   "cell_type": "markdown",
   "metadata": {},
   "source": [
    "Let's make a bar plot with the just computed numbers:"
   ]
  },
  {
   "cell_type": "code",
   "execution_count": 135,
   "metadata": {
    "collapsed": false
   },
   "outputs": [
    {
     "data": {
      "text/plain": [
       "[0.77419317627756634,\n",
       " 0.274568477535865,\n",
       " 0.52456600133438958,\n",
       " 0.10988851639242048,\n",
       " 0.9173077195848538,\n",
       " 0.67215738787506218,\n",
       " 0.78073124498823832,\n",
       " 0.34319836534987225,\n",
       " 0.36466613282060334,\n",
       " 0.40681014189609904,\n",
       " 0.77075603570250351,\n",
       " 0.2672873843477836,\n",
       " 0.3979586538904154,\n",
       " 0.41057586141404956,\n",
       " 0.24687851327074922,\n",
       " 0.54467083900315094,\n",
       " 0.63490203247374355,\n",
       " 0.26986173065211588,\n",
       " 0.35136691981491958,\n",
       " 0.38601865045543871,\n",
       " 0.57797853866707183,\n",
       " 0.60791732543673671,\n",
       " 0.41977590274138665,\n",
       " 0.77760363600740945,\n",
       " 0.13930958880564798,\n",
       " 0.37157580525743594,\n",
       " 0.47605248855507931,\n",
       " 0.70524233745725029,\n",
       " 0.59765881251299779,\n",
       " 0.71813681129356643,\n",
       " 0.47074880969405297,\n",
       " 0.38743449904671035,\n",
       " 0.46419007761963849,\n",
       " 0.6215589295056978,\n",
       " 0.1986440118547006,\n",
       " 0.29957866524180221,\n",
       " 0.32234483765792193,\n",
       " 0.7273392116680899,\n",
       " 0.63002920038567556,\n",
       " 0.88383304529760121,\n",
       " 0.40282387477340864,\n",
       " 0.44243699049296453,\n",
       " 0.77499920202425088,\n",
       " 0.38313913682247508,\n",
       " 0.64471408195318269]"
      ]
     },
     "execution_count": 135,
     "metadata": {},
     "output_type": "execute_result"
    }
   ],
   "source": [
    "avg_thickness.values()"
   ]
  },
  {
   "cell_type": "code",
   "execution_count": 136,
   "metadata": {
    "collapsed": false
   },
   "outputs": [
    {
     "data": {
      "image/png": "[encoded data removed]",
      "text/plain": [
       "<matplotlib.figure.Figure at 0x115e011d0>"
      ]
     },
     "metadata": {},
     "output_type": "display_data"
    }
   ],
   "source": [
    "n, bins, patches = plt.hist(avg_thickness.values())"
   ]
  },
  {
   "cell_type": "markdown",
   "metadata": {},
   "source": [
    "Remember as the original source of data was random, this has no units, property or meaning!"
   ]
  },
  {
   "cell_type": "markdown",
   "metadata": {},
   "source": [
    "<a id='subsetselection'></a>"
   ]
  },
  {
   "cell_type": "markdown",
   "metadata": {},
   "source": [
    "## Subset selection\n",
    "\n",
    "In addition to the structured way of obtaining the various properties of this dataset, this implementation really will come in handy when you have to slice and dice the dataset (with large number of classes and features) into smaller subsets (e.g. for binary classification). Let's see how we can retrieve the data for a single class:"
   ]
  },
  {
   "cell_type": "code",
   "execution_count": 137,
   "metadata": {
    "collapsed": false
   },
   "outputs": [],
   "source": [
    "ctrl = dataset.get_class('Cntrl')"
   ]
  },
  {
   "cell_type": "markdown",
   "metadata": {},
   "source": [
    "That's it, obtaining the data for a given class is a simple call away.\n",
    "\n",
    "Now let's see what it looks like:"
   ]
  },
  {
   "cell_type": "code",
   "execution_count": 138,
   "metadata": {
    "collapsed": false
   },
   "outputs": [
    {
     "data": {
      "text/plain": [
       "\n",
       " Subset derived from: ADNI1 baseline: cortical thickness features from Freesurfer v4.3, QCed.\n",
       "15 samples and 4 features.\n",
       "Class Cntrl : 15 samples."
      ]
     },
     "execution_count": 138,
     "metadata": {},
     "output_type": "execute_result"
    }
   ],
   "source": [
    "ctrl"
   ]
  },
  {
   "cell_type": "markdown",
   "metadata": {},
   "source": [
    "Even with updated description automatically, to indicate its history. Let's see some data from controls:"
   ]
  },
  {
   "cell_type": "code",
   "execution_count": 139,
   "metadata": {
    "collapsed": false
   },
   "outputs": [
    {
     "data": {
      "text/plain": [
       "{'C0102': array([ 0.06,  0.16,  0.8 ,  0.9 ]),\n",
       " 'C0589': array([ 0.34,  0.06,  0.33,  0.24])}"
      ]
     },
     "execution_count": 139,
     "metadata": {},
     "output_type": "execute_result"
    }
   ],
   "source": [
    "ctrl.glance(2)"
   ]
  },
  {
   "cell_type": "markdown",
   "metadata": {},
   "source": [
    "We can also query a random subset of samples for manual inspection or cross-validation purposes. For example:"
   ]
  },
  {
   "cell_type": "code",
   "execution_count": 140,
   "metadata": {
    "collapsed": false
   },
   "outputs": [
    {
     "data": {
      "text/plain": [
       "\n",
       " Subset derived from: ADNI1 baseline: cortical thickness features from Freesurfer v4.3, QCed.\n",
       "12 samples and 4 features.\n",
       "Class Cntrl : 4 samples.\n",
       "Class   MCI : 5 samples.\n",
       "Class Alzmr : 3 samples."
      ]
     },
     "execution_count": 140,
     "metadata": {},
     "output_type": "execute_result"
    }
   ],
   "source": [
    "random_subset = dataset.random_subset(perc_in_class=0.3)\n",
    "random_subset"
   ]
  },
  {
   "cell_type": "markdown",
   "metadata": {},
   "source": [
    "You can see which samples were selected:"
   ]
  },
  {
   "cell_type": "code",
   "execution_count": 141,
   "metadata": {
    "collapsed": false
   },
   "outputs": [
    {
     "data": {
      "text/plain": [
       "['C0296',\n",
       " 'C0981',\n",
       " 'C0592',\n",
       " 'C0665',\n",
       " 'A0402',\n",
       " 'A0460',\n",
       " 'A0866',\n",
       " 'M0207',\n",
       " 'M0752',\n",
       " 'M0924',\n",
       " 'M0543',\n",
       " 'M0143']"
      ]
     },
     "execution_count": 141,
     "metadata": {},
     "output_type": "execute_result"
    }
   ],
   "source": [
    "random_subset.sample_ids"
   ]
  },
  {
   "cell_type": "markdown",
   "metadata": {},
   "source": [
    "You can verify that it is indeed random by issuing another call:"
   ]
  },
  {
   "cell_type": "code",
   "execution_count": 142,
   "metadata": {
    "collapsed": false
   },
   "outputs": [
    {
     "data": {
      "text/plain": [
       "['C0102',\n",
       " 'C0589',\n",
       " 'C0547',\n",
       " 'C0767',\n",
       " 'A0851',\n",
       " 'A0166',\n",
       " 'A0375',\n",
       " 'M0450',\n",
       " 'M0207',\n",
       " 'M0551',\n",
       " 'M0698',\n",
       " 'M0751']"
      ]
     },
     "execution_count": 142,
     "metadata": {},
     "output_type": "execute_result"
    }
   ],
   "source": [
    "# supplying a new seed everytime to ensure randomization\n",
    "from datetime import datetime\n",
    "dataset.random_subset(perc_in_class=0.3).sample_ids"
   ]
  },
  {
   "cell_type": "markdown",
   "metadata": {},
   "source": [
    "#### Let's see how we can retrieve specific samples by their IDs (for which there are many use cases):"
   ]
  },
  {
   "cell_type": "code",
   "execution_count": 143,
   "metadata": {
    "collapsed": false
   },
   "outputs": [
    {
     "data": {
      "text/plain": [
       "\n",
       " Subset derived from: ADNI1 baseline: cortical thickness features from Freesurfer v4.3, QCed.\n",
       "19 samples and 4 features.\n",
       "Class Cntrl : 14 samples.\n",
       "Class Alzmr : 5 samples."
      ]
     },
     "execution_count": 143,
     "metadata": {},
     "output_type": "execute_result"
    }
   ],
   "source": [
    "data = dataset.get_subset(dataset.sample_ids[1:20])\n",
    "data"
   ]
  },
  {
   "cell_type": "markdown",
   "metadata": {},
   "source": [
    "So as simple as that."
   ]
  },
  {
   "cell_type": "markdown",
   "metadata": {},
   "source": [
    "# Cross-validation\n",
    "\n",
    "If you would like to develop a variant of cross-validation, and need to obtain a random split of the dataset to obtain training and test sets, it is as simple as: "
   ]
  },
  {
   "cell_type": "code",
   "execution_count": 144,
   "metadata": {
    "collapsed": false
   },
   "outputs": [],
   "source": [
    "train_set, test_set = dataset.train_test_split_ids( train_perc = 0.5)"
   ]
  },
  {
   "cell_type": "markdown",
   "metadata": {},
   "source": [
    "This method returns two sets of sample ids corresponding to training set (which 50% of samples from all classes in the dataset) and the rest in test_set. Let's see what they have:"
   ]
  },
  {
   "cell_type": "code",
   "execution_count": 145,
   "metadata": {
    "collapsed": false
   },
   "outputs": [
    {
     "data": {
      "text/plain": [
       "(['C0592',\n",
       "  'C0622',\n",
       "  'C0782',\n",
       "  'C0776',\n",
       "  'C0451',\n",
       "  'C0483',\n",
       "  'C0981',\n",
       "  'M0752',\n",
       "  'M0173',\n",
       "  'M0543',\n",
       "  'M0642',\n",
       "  'M0751',\n",
       "  'M0256',\n",
       "  'M0207',\n",
       "  'M0143',\n",
       "  'M0924',\n",
       "  'A0851',\n",
       "  'A0402',\n",
       "  'A0502',\n",
       "  'A0971',\n",
       "  'A0264',\n",
       "  'A0624'],\n",
       " ['M0450',\n",
       "  'A0866',\n",
       "  'C0102',\n",
       "  'C0246',\n",
       "  'M0733',\n",
       "  'A0166',\n",
       "  'M0551',\n",
       "  'M0698',\n",
       "  'A0735',\n",
       "  'M0647',\n",
       "  'C0547',\n",
       "  'C0065',\n",
       "  'A0153',\n",
       "  'C0665',\n",
       "  'C0767',\n",
       "  'C0589',\n",
       "  'C0296',\n",
       "  'A0460',\n",
       "  'A0375',\n",
       "  'M0171',\n",
       "  'M0950',\n",
       "  'M0037',\n",
       "  'M0670'])"
      ]
     },
     "execution_count": 145,
     "metadata": {},
     "output_type": "execute_result"
    }
   ],
   "source": [
    "train_set, test_set"
   ]
  },
  {
   "cell_type": "markdown",
   "metadata": {},
   "source": [
    "We can also get a train/test split by specifying an exact number of subjects we would like from each class (e.g. when you would like to avoid class imbalance in the training set):"
   ]
  },
  {
   "cell_type": "code",
   "execution_count": 146,
   "metadata": {
    "collapsed": true
   },
   "outputs": [],
   "source": [
    "train_set, test_set = dataset.train_test_split_ids( count_per_class = 3)"
   ]
  },
  {
   "cell_type": "markdown",
   "metadata": {},
   "source": [
    "Let's see what the training set contains - we expect 3*3 =9 subjects :"
   ]
  },
  {
   "cell_type": "code",
   "execution_count": 147,
   "metadata": {
    "collapsed": false
   },
   "outputs": [
    {
     "data": {
      "text/plain": [
       "['C0776',\n",
       " 'C0065',\n",
       " 'C0483',\n",
       " 'M0173',\n",
       " 'M0752',\n",
       " 'M0698',\n",
       " 'A0166',\n",
       " 'A0624',\n",
       " 'A0460']"
      ]
     },
     "execution_count": 147,
     "metadata": {},
     "output_type": "execute_result"
    }
   ],
   "source": [
    "train_set"
   ]
  },
  {
   "cell_type": "markdown",
   "metadata": {},
   "source": [
    "We can indeed verify that is the case, by creating a new smaller dataset from that list of ids and getting a summary:"
   ]
  },
  {
   "cell_type": "code",
   "execution_count": 148,
   "metadata": {
    "collapsed": false
   },
   "outputs": [
    {
     "data": {
      "text/plain": [
       "\n",
       " Subset derived from: ADNI1 baseline: cortical thickness features from Freesurfer v4.3, QCed.\n",
       "9 samples and 4 features.\n",
       "Class Cntrl : 3 samples.\n",
       "Class   MCI : 3 samples.\n",
       "Class Alzmr : 3 samples."
      ]
     },
     "execution_count": 148,
     "metadata": {},
     "output_type": "execute_result"
    }
   ],
   "source": [
    "training_dataset = dataset.get_subset(train_set)\n",
    "training_dataset"
   ]
  },
  {
   "cell_type": "markdown",
   "metadata": {},
   "source": [
    "Another programmatic way to look into different classes is this:"
   ]
  },
  {
   "cell_type": "code",
   "execution_count": 149,
   "metadata": {
    "collapsed": false
   },
   "outputs": [
    {
     "data": {
      "text/plain": [
       "(['Cntrl', 'MCI', 'Alzmr'], [0, 2, 1], array([ 3.,  3.,  3.]))"
      ]
     },
     "execution_count": 149,
     "metadata": {},
     "output_type": "execute_result"
    }
   ],
   "source": [
    "class_set, label_set, class_sizes = training_dataset.summarize_classes()\n",
    "class_set, label_set, class_sizes"
   ]
  },
  {
   "cell_type": "markdown",
   "metadata": {},
   "source": [
    "which returns all the classes that you could iterative over."
   ]
  },
  {
   "cell_type": "markdown",
   "metadata": {},
   "source": [
    "Using these two lists, we can easily obtain subset datasets, as illustrated below."
   ]
  },
  {
   "cell_type": "code",
   "execution_count": 150,
   "metadata": {
    "collapsed": false
   },
   "outputs": [
    {
     "data": {
      "text/plain": [
       "ADNI1 baseline: cortical thickness features from Freesurfer v4.3, QCed.\n",
       "45 samples and 4 features.\n",
       "Class Cntrl : 15 samples.\n",
       "Class   MCI : 18 samples.\n",
       "Class Alzmr : 12 samples."
      ]
     },
     "execution_count": 150,
     "metadata": {},
     "output_type": "execute_result"
    }
   ],
   "source": [
    "dataset"
   ]
  },
  {
   "cell_type": "code",
   "execution_count": 151,
   "metadata": {
    "collapsed": false
   },
   "outputs": [
    {
     "data": {
      "text/plain": [
       "\n",
       " Subset derived from: ADNI1 baseline: cortical thickness features from Freesurfer v4.3, QCed.\n",
       "27 samples and 4 features.\n",
       "Class Cntrl : 15 samples.\n",
       "Class Alzmr : 12 samples."
      ]
     },
     "execution_count": 151,
     "metadata": {},
     "output_type": "execute_result"
    }
   ],
   "source": [
    "binary_dataset = dataset.get_class(['Cntrl','Alzmr'])\n",
    "binary_dataset"
   ]
  },
  {
   "cell_type": "markdown",
   "metadata": {},
   "source": [
    "How about selecting a subset of features from all samples?"
   ]
  },
  {
   "cell_type": "code",
   "execution_count": 152,
   "metadata": {
    "collapsed": false
   },
   "outputs": [
    {
     "data": {
      "text/plain": [
       "Subset features derived from: \n",
       " \n",
       " Subset derived from: ADNI1 baseline: cortical thickness features from Freesurfer v4.3, QCed.\n",
       "27 samples and 2 features.\n",
       "Class Cntrl : 15 samples.\n",
       "Class Alzmr : 12 samples."
      ]
     },
     "execution_count": 152,
     "metadata": {},
     "output_type": "execute_result"
    }
   ],
   "source": [
    "binary_dataset.get_feature_subset(xrange(2))"
   ]
  },
  {
   "cell_type": "markdown",
   "metadata": {},
   "source": [
    "**Great.** Isn't it? You can also see the two-time-point history (initial subset in classes, followed by a subset in features)."
   ]
  },
  {
   "cell_type": "markdown",
   "metadata": {},
   "source": [
    "<a id='serialization'></a>"
   ]
  },
  {
   "cell_type": "markdown",
   "metadata": {},
   "source": [
    "## Serialization\n",
    "\n",
    "Once you have this dataset, you can save and load these trivially using your favourite serialization module. Let's do some pickling:"
   ]
  },
  {
   "cell_type": "code",
   "execution_count": 153,
   "metadata": {
    "collapsed": false
   },
   "outputs": [],
   "source": [
    "out_file = os.path.join(work_dir,'binary_dataset_Ctrl_Alzr_Freesurfer_thickness_v4p3.pkl')\n",
    "binary_dataset.save(out_file)"
   ]
  },
  {
   "cell_type": "markdown",
   "metadata": {
    "collapsed": false
   },
   "source": [
    "That's it - it is saved.\n",
    "\n",
    "Let's reload it from disk and make sure we can indeed retrieve it:"
   ]
  },
  {
   "cell_type": "code",
   "execution_count": 154,
   "metadata": {
    "collapsed": false
   },
   "outputs": [
    {
     "name": "stdout",
     "output_type": "stream",
     "text": [
      "Loading the dataset from: /project/ADNI/FreesurferThickness_v4p3/binary_dataset_Ctrl_Alzr_Freesurfer_thickness_v4p3.pkl\n"
     ]
    }
   ],
   "source": [
    "reloaded = MLDataset(filepath=out_file) # another form of the constructor!"
   ]
  },
  {
   "cell_type": "code",
   "execution_count": 155,
   "metadata": {
    "collapsed": false
   },
   "outputs": [
    {
     "data": {
      "text/plain": [
       "\n",
       " Subset derived from: ADNI1 baseline: cortical thickness features from Freesurfer v4.3, QCed.\n",
       "27 samples and 4 features.\n",
       "Class Cntrl : 15 samples.\n",
       "Class Alzmr : 12 samples."
      ]
     },
     "execution_count": 155,
     "metadata": {},
     "output_type": "execute_result"
    }
   ],
   "source": [
    "reloaded"
   ]
  },
  {
   "cell_type": "markdown",
   "metadata": {},
   "source": [
    "<a id='arithmetic'></a>"
   ]
  },
  {
   "cell_type": "markdown",
   "metadata": {},
   "source": [
    "## Dataset Arithmetic\n",
    "\n",
    "You might wonder how can you combine two different types of features ( thickness and shape ) from the dataset. Piece of cake, see below ...\n",
    "\n",
    "To concatenat two datasets, first we make a second dataset:"
   ]
  },
  {
   "cell_type": "code",
   "execution_count": 156,
   "metadata": {
    "collapsed": false
   },
   "outputs": [],
   "source": [
    "dataset_two = MLDataset(in_dataset=dataset) # yet another constructor: in its copy form!"
   ]
  },
  {
   "cell_type": "markdown",
   "metadata": {},
   "source": [
    "How can you check if they are \"functionally identical\"? As in same keys, same data and classes for each key... Easy:"
   ]
  },
  {
   "cell_type": "code",
   "execution_count": 157,
   "metadata": {
    "collapsed": false
   },
   "outputs": [
    {
     "data": {
      "text/plain": [
       "True"
      ]
     },
     "execution_count": 157,
     "metadata": {},
     "output_type": "execute_result"
    }
   ],
   "source": [
    "dataset_two == dataset"
   ]
  },
  {
   "cell_type": "markdown",
   "metadata": {},
   "source": [
    "Now let's try the arithmentic:"
   ]
  },
  {
   "cell_type": "code",
   "execution_count": 158,
   "metadata": {
    "collapsed": false
   },
   "outputs": [
    {
     "name": "stdout",
     "output_type": "stream",
     "text": [
      "Identical keys found. Trying to horizontally concatenate features for each sample.\n"
     ]
    }
   ],
   "source": [
    "combined = dataset + dataset_two"
   ]
  },
  {
   "cell_type": "markdown",
   "metadata": {},
   "source": [
    "Great. The add method recognized the identical set of keys and performed a horiz cat, as can be noticed by the twice the number of features in the combined dataset:"
   ]
  },
  {
   "cell_type": "code",
   "execution_count": 159,
   "metadata": {
    "collapsed": false
   },
   "outputs": [
    {
     "data": {
      "text/plain": [
       "\n",
       "45 samples and 8 features.\n",
       "Class Cntrl : 15 samples.\n",
       "Class   MCI : 18 samples.\n",
       "Class Alzmr : 12 samples."
      ]
     },
     "execution_count": 159,
     "metadata": {},
     "output_type": "execute_result"
    }
   ],
   "source": [
    "combined"
   ]
  },
  {
   "cell_type": "markdown",
   "metadata": {},
   "source": [
    "We can also do some removal in similar fashion:"
   ]
  },
  {
   "cell_type": "code",
   "execution_count": 160,
   "metadata": {
    "collapsed": false
   },
   "outputs": [
    {
     "name": "stdout",
     "output_type": "stream",
     "text": [
      "C0102 removed.\n",
      "C0589 removed.\n",
      "C0246 removed.\n",
      "C0776 removed.\n",
      "C0483 removed.\n",
      "C0622 removed.\n",
      "C0547 removed.\n",
      "C0296 removed.\n",
      "C0981 removed.\n",
      "C0782 removed.\n",
      "C0767 removed.\n",
      "C0451 removed.\n",
      "C0065 removed.\n",
      "C0592 removed.\n",
      "C0665 removed.\n",
      "A0502 removed.\n",
      "A0851 removed.\n",
      "A0402 removed.\n",
      "A0460 removed.\n",
      "A0166 removed.\n",
      "A0264 removed.\n",
      "A0866 removed.\n",
      "A0375 removed.\n",
      "A0971 removed.\n",
      "A0624 removed.\n",
      "A0153 removed.\n",
      "A0735 removed.\n",
      "M0450 removed.\n",
      "M0207 removed.\n",
      "M0647 removed.\n",
      "M0752 removed.\n",
      "M0037 removed.\n",
      "M0171 removed.\n",
      "M0173 removed.\n",
      "M0733 removed.\n",
      "M0551 removed.\n",
      "M0698 removed.\n",
      "M0256 removed.\n",
      "M0642 removed.\n",
      "M0924 removed.\n",
      "M0543 removed.\n",
      "M0751 removed.\n",
      "M0950 removed.\n",
      "M0143 removed.\n",
      "M0670 removed.\n"
     ]
    }
   ],
   "source": [
    "smaller = combined - dataset"
   ]
  },
  {
   "cell_type": "markdown",
   "metadata": {},
   "source": [
    "Data structure is even producing a warning to let you know the resulting output would be empty! We can verify that:"
   ]
  },
  {
   "cell_type": "code",
   "execution_count": 161,
   "metadata": {
    "collapsed": false
   },
   "outputs": [
    {
     "data": {
      "text/plain": [
       "False"
      ]
     },
     "execution_count": 161,
     "metadata": {},
     "output_type": "execute_result"
    }
   ],
   "source": [
    "bool(smaller)"
   ]
  },
  {
   "cell_type": "markdown",
   "metadata": {},
   "source": [
    "<a id='portability'></a>"
   ]
  },
  {
   "cell_type": "markdown",
   "metadata": {},
   "source": [
    "## Portability"
   ]
  },
  {
   "cell_type": "markdown",
   "metadata": {},
   "source": [
    "This is all well and good. How does it interact with other packages out there, you might ask? It is as simple as you can imagine:"
   ]
  },
  {
   "cell_type": "code",
   "execution_count": 162,
   "metadata": {
    "collapsed": false
   },
   "outputs": [],
   "source": [
    "from sklearn import svm\n",
    "clf = svm.SVC(gamma=0.001, C=100.)"
   ]
  },
  {
   "cell_type": "code",
   "execution_count": 163,
   "metadata": {
    "collapsed": false
   },
   "outputs": [
    {
     "data": {
      "text/plain": [
       "SVC(C=100.0, cache_size=200, class_weight=None, coef0=0.0,\n",
       "  decision_function_shape=None, degree=3, gamma=0.001, kernel='rbf',\n",
       "  max_iter=-1, probability=False, random_state=None, shrinking=True,\n",
       "  tol=0.001, verbose=False)"
      ]
     },
     "execution_count": 163,
     "metadata": {},
     "output_type": "execute_result"
    }
   ],
   "source": [
    "data_matrix, target, sample_ids = binary_dataset.data_and_labels()\n",
    "clf.fit(data_matrix, target)"
   ]
  },
  {
   "cell_type": "markdown",
   "metadata": {},
   "source": [
    "There you have it, a simple example to show you the utility and convenience of this dataset."
   ]
  },
  {
   "cell_type": "markdown",
   "metadata": {},
   "source": [
    "### Thanks for checking it out. \n",
    "\n",
    "### I would appreciate if you could give me feedback on improving or sharpening it further."
   ]
  }
 ],
 "metadata": {
  "kernelspec": {
   "display_name": "Python 2",
   "language": "python",
   "name": "python2"
  },
  "language_info": {
   "codemirror_mode": {
    "name": "ipython",
    "version": 2
   },
   "file_extension": ".py",
   "mimetype": "text/x-python",
   "name": "python",
   "nbconvert_exporter": "python",
   "pygments_lexer": "ipython2",
   "version": "2.7.12"
  }
 },
 "nbformat": 4,
 "nbformat_minor": 0
}
